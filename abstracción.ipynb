{
  "nbformat": 4,
  "nbformat_minor": 0,
  "metadata": {
    "colab": {
      "provenance": []
    },
    "kernelspec": {
      "name": "python3",
      "display_name": "Python 3"
    },
    "language_info": {
      "name": "python"
    }
  },
  "cells": [
    {
      "cell_type": "code",
      "execution_count": 1,
      "metadata": {
        "colab": {
          "base_uri": "https://localhost:8080/"
        },
        "id": "_X8JTDw-jHuG",
        "outputId": "d69f020b-ad68-43a4-9cea-283ea4f7bd6e"
      },
      "outputs": [
        {
          "output_type": "stream",
          "name": "stdout",
          "text": [
            "Guau\n",
            "Miau\n",
            "Muu\n"
          ]
        }
      ],
      "source": [
        "class Saludo:\n",
        "    def saludar(self, nombre):\n",
        "        print(f\"Hola, {nombre}\")\n",
        "\n",
        "saludo = Saludo()\n",
        "saludo.saludar(\"TuNombre\")\n"
      ]
    },
    {
      "cell_type": "code",
      "source": [
        "class Numero:\n",
        "    def __init__(self, valor):\n",
        "        self.valor = valor\n",
        "\n",
        "    def es_par(self):\n",
        "        return self.valor % 2 == 0\n",
        "\n",
        "numeros = [Numero(2), Numero(5), Numero(10)]\n",
        "for n in numeros:\n",
        "    print(f\"{n.valor} es par? {n.es_par()}\")\n"
      ],
      "metadata": {
        "id": "A-T2zFNsnSP1"
      },
      "execution_count": null,
      "outputs": []
    },
    {
      "cell_type": "code",
      "source": [
        "class Rectangulo:\n",
        "    def __init__(self, base, altura):\n",
        "        self.base = base\n",
        "        self.altura = altura\n",
        "\n",
        "    def area(self):\n",
        "        return self.base * self.altura\n",
        "\n",
        "r = Rectangulo(5, 10)\n",
        "print(\"Área del rectángulo:\", r.area())\n"
      ],
      "metadata": {
        "id": "41y3kMLYnT5l"
      },
      "execution_count": null,
      "outputs": []
    },
    {
      "cell_type": "code",
      "source": [
        "class Temperatura:\n",
        "    def __init__(self, celsius):\n",
        "        self.celsius = celsius\n",
        "\n",
        "    def a_fahrenheit(self):\n",
        "        return self.celsius * 1.8 + 32\n",
        "\n",
        "t = Temperatura(25)\n",
        "print(\"Fahrenheit:\", t.a_fahrenheit())\n"
      ],
      "metadata": {
        "id": "2PavTr_8nVTl"
      },
      "execution_count": null,
      "outputs": []
    },
    {
      "cell_type": "code",
      "source": [
        "class Palabra:\n",
        "    def __init__(self, texto):\n",
        "        self.texto = texto.lower()\n",
        "\n",
        "    def contar_vocales(self):\n",
        "        return sum(1 for letra in self.texto if letra in \"aeiou\")\n",
        "\n",
        "palabras = [Palabra(\"Hola\"), Palabra(\"Python\"), Palabra(\"Examen\")]\n",
        "for p in palabras:\n",
        "    print(f\"'{p.texto}' tiene {p.contar_vocales()} vocales\")\n"
      ],
      "metadata": {
        "id": "FSL1nE9nnW34"
      },
      "execution_count": null,
      "outputs": []
    },
    {
      "cell_type": "code",
      "source": [
        "class Palindromo:\n",
        "    def __init__(self, palabra):\n",
        "        self.palabra = palabra.lower()\n",
        "\n",
        "    def es_palindromo(self):\n",
        "        return self.palabra == self.palabra[::-1]\n",
        "\n",
        "palabras = [\"reconocer\", \"luz\", \"oso\"]\n",
        "for palabra in palabras:\n",
        "    p = Palindromo(palabra)\n",
        "    print(f\"'{palabra}' es palíndromo? {p.es_palindromo()}\")\n"
      ],
      "metadata": {
        "id": "0dsKF5T1nYK-"
      },
      "execution_count": null,
      "outputs": []
    },
    {
      "cell_type": "code",
      "source": [
        "import random\n",
        "\n",
        "class Dado:\n",
        "    def tirar(self):\n",
        "        return random.randint(1, 6)\n",
        "\n",
        "d = Dado()\n",
        "for _ in range(5):\n",
        "    print(\"Tirada del dado:\", d.tirar())\n"
      ],
      "metadata": {
        "id": "xsikdP-7nZeP"
      },
      "execution_count": null,
      "outputs": []
    },
    {
      "cell_type": "code",
      "source": [
        "class ListaCuadrados:\n",
        "    def generar(self, n):\n",
        "        return [i ** 2 for i in range(1, n + 1)]\n",
        "\n",
        "lc = ListaCuadrados()\n",
        "print(\"Cuadrados:\", lc.generar(5))\n"
      ],
      "metadata": {
        "id": "Y0nlVmEvnatm"
      },
      "execution_count": null,
      "outputs": []
    },
    {
      "cell_type": "code",
      "source": [
        "class Calculadora:\n",
        "    def operar(self, a, b, tipo):\n",
        "        if tipo == \"suma\":\n",
        "            return a + b\n",
        "        elif tipo == \"resta\":\n",
        "            return a - b\n",
        "        elif tipo == \"multiplicacion\":\n",
        "            return a * b\n",
        "        elif tipo == \"division\":\n",
        "            return a / b if b != 0 else \"Error: división por cero\"\n",
        "        else:\n",
        "            return \"Operación no válida\"\n",
        "\n",
        "calc = Calculadora()\n",
        "print(calc.operar(10, 5, \"suma\"))\n",
        "print(calc.operar(10, 5, \"resta\"))\n",
        "print(calc.operar(10, 5, \"multiplicacion\"))\n",
        "print(calc.operar(10, 0, \"division\"))\n"
      ],
      "metadata": {
        "id": "dCe7H40YncFP"
      },
      "execution_count": null,
      "outputs": []
    },
    {
      "cell_type": "code",
      "source": [
        "class GeneradorContrasena:\n",
        "    def crear(self, nombre, año):\n",
        "        return f\"{nombre}{año}@\"\n",
        "\n",
        "gen = GeneradorContrasena()\n",
        "print(\"Contraseña:\", gen.crear(\"Carlos\", 2024))\n"
      ],
      "metadata": {
        "id": "86VCEnEineKh"
      },
      "execution_count": null,
      "outputs": []
    }
  ]
}