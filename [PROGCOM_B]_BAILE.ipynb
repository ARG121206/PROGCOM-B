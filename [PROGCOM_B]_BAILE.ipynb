{
  "nbformat": 4,
  "nbformat_minor": 0,
  "metadata": {
    "colab": {
      "provenance": [],
      "toc_visible": true
    },
    "kernelspec": {
      "name": "python3",
      "display_name": "Python 3"
    },
    "language_info": {
      "name": "python"
    }
  },
  "cells": [
    {
      "cell_type": "code",
      "execution_count": 1,
      "metadata": {
        "id": "z93EMWcTwNYS"
      },
      "outputs": [],
      "source": [
        "def brazo():\n",
        "  print('movimiento de brazo derecha')\n",
        "def freezer(repeticion,lado):\n",
        "  for i in range(repeticion):\n",
        "    for q in range(lado):\n",
        "      print('movimiento de freezer derecha')\n",
        "    for p in range(lado):\n",
        "      print('movimiento de freezer izquierda')\n",
        "def saltitos(repeticion):\n",
        "  for j in range(repeticion):\n",
        "    print('movimiento de salititos')\n",
        "def cadera_con_brazos(repeticion):\n",
        "  for a in range(repeticion):\n",
        "    print('movimiento de cadera con brazos')\n",
        "def cabeza_giro(repeticion):\n",
        "  for ñ in range(repeticion):\n",
        "    print('movimiento de cabeza con giro')\n",
        "def cola(repeticion,lado):\n",
        "  for n in range(repeticion):\n",
        "    for t in range(lado):\n",
        "      print('movimiento de cola derecha')\n",
        "    for y in range(lado):\n",
        "      print('movimiento de cola izquierda')\n",
        "def movimiento_de_piernas(repeticion, lado):\n",
        "  for r in range(repeticion):\n",
        "    for g in range(lado):\n",
        "      print('movimiento de piernas derecha')\n",
        "    for h in range(lado):\n",
        "      print('movimiento de piernas izquierda')\n",
        "def corazon():\n",
        "  print('movimiento de corazon')"
      ]
    },
    {
      "cell_type": "code",
      "source": [
        "brazo()\n",
        "freezer(1,1)\n",
        "freezer(1,1)\n",
        "saltitos(4)\n",
        "cadera_con_brazos(4)\n",
        "cabeza_giro(4)\n",
        "cola(1,1)\n",
        "cola(1,1)\n",
        "movimiento_de_piernas(1,1)\n",
        "movimiento_de_piernas(1,1)\n",
        "corazon()"
      ],
      "metadata": {
        "id": "Xc1h-kuzwPQj",
        "colab": {
          "base_uri": "https://localhost:8080/",
          "height": 211
        },
        "outputId": "a195af96-712c-4219-c14a-784f3d66349e"
      },
      "execution_count": null,
      "outputs": [
        {
          "output_type": "error",
          "ename": "NameError",
          "evalue": "name 'brazo' is not defined",
          "traceback": [
            "\u001b[0;31m---------------------------------------------------------------------------\u001b[0m",
            "\u001b[0;31mNameError\u001b[0m                                 Traceback (most recent call last)",
            "\u001b[0;32m<ipython-input-1-75590ca7ba9f>\u001b[0m in \u001b[0;36m<cell line: 0>\u001b[0;34m()\u001b[0m\n\u001b[0;32m----> 1\u001b[0;31m \u001b[0mbrazo\u001b[0m\u001b[0;34m(\u001b[0m\u001b[0;34m)\u001b[0m\u001b[0;34m\u001b[0m\u001b[0;34m\u001b[0m\u001b[0m\n\u001b[0m\u001b[1;32m      2\u001b[0m \u001b[0mfreezer\u001b[0m\u001b[0;34m(\u001b[0m\u001b[0;36m1\u001b[0m\u001b[0;34m,\u001b[0m\u001b[0;36m1\u001b[0m\u001b[0;34m)\u001b[0m\u001b[0;34m\u001b[0m\u001b[0;34m\u001b[0m\u001b[0m\n\u001b[1;32m      3\u001b[0m \u001b[0mfreezer\u001b[0m\u001b[0;34m(\u001b[0m\u001b[0;36m1\u001b[0m\u001b[0;34m,\u001b[0m\u001b[0;36m1\u001b[0m\u001b[0;34m)\u001b[0m\u001b[0;34m\u001b[0m\u001b[0;34m\u001b[0m\u001b[0m\n\u001b[1;32m      4\u001b[0m \u001b[0msaltitos\u001b[0m\u001b[0;34m(\u001b[0m\u001b[0;36m4\u001b[0m\u001b[0;34m)\u001b[0m\u001b[0;34m\u001b[0m\u001b[0;34m\u001b[0m\u001b[0m\n\u001b[1;32m      5\u001b[0m \u001b[0mcadera_con_brazos\u001b[0m\u001b[0;34m(\u001b[0m\u001b[0;36m4\u001b[0m\u001b[0;34m)\u001b[0m\u001b[0;34m\u001b[0m\u001b[0;34m\u001b[0m\u001b[0m\n",
            "\u001b[0;31mNameError\u001b[0m: name 'brazo' is not defined"
          ]
        }
      ]
    }
  ]
}