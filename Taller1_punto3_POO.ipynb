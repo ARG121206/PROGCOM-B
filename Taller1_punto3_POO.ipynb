{
  "nbformat": 4,
  "nbformat_minor": 0,
  "metadata": {
    "colab": {
      "provenance": []
    },
    "kernelspec": {
      "name": "python3",
      "display_name": "Python 3"
    },
    "language_info": {
      "name": "python"
    }
  },
  "cells": [
    {
      "cell_type": "code",
      "execution_count": 1,
      "metadata": {
        "colab": {
          "base_uri": "https://localhost:8080/"
        },
        "id": "fgQZArACyUC8",
        "outputId": "b8b7bd67-abd5-4f1e-f944-fea7b6004482"
      },
      "outputs": [
        {
          "output_type": "stream",
          "name": "stdout",
          "text": [
            "Simulación de sensor de humedad y actuador:\n",
            "\n",
            "Toma 1: Humedad: 1.66 → ALERTA: Humedad baja. Abriendo grifo.\n",
            "Toma 2: Humedad: 5.51 → Humedad normal. Cerrando grifo.\n",
            "Toma 3: Humedad: 3.16 → Humedad normal. Grifo ya está cerrado.\n",
            "Toma 4: Humedad: 9.25 → ALERTA: Alta humedad. Sistema de absorción activado.\n",
            "Toma 5: Humedad: 4.96 → Humedad normal. Grifo ya está cerrado.\n",
            "Toma 6: Humedad: 0.4 → ALERTA: Humedad baja. Abriendo grifo.\n",
            "Toma 7: Humedad: 6.23 → Humedad normal. Cerrando grifo.\n",
            "Toma 8: Humedad: 3.73 → Humedad normal. Grifo ya está cerrado.\n",
            "Toma 9: Humedad: 1.15 → ALERTA: Humedad baja. Abriendo grifo.\n",
            "Toma 10: Humedad: 7.88 → Humedad normal. Cerrando grifo.\n",
            "Toma 11: Humedad: 4.12 → Humedad normal. Grifo ya está cerrado.\n",
            "Toma 12: Humedad: 5.17 → Humedad normal. Grifo ya está cerrado.\n",
            "Toma 13: Humedad: 1.65 → ALERTA: Humedad baja. Abriendo grifo.\n",
            "Toma 14: Humedad: 6.84 → Humedad normal. Cerrando grifo.\n",
            "Toma 15: Humedad: 0.68 → ALERTA: Humedad baja. Abriendo grifo.\n",
            "Toma 16: Humedad: 8.88 → ALERTA: Alta humedad. Cerrando grifo. Activando sistema de absorción.\n",
            "Toma 17: Humedad: 0.56 → ALERTA: Humedad baja. Abriendo grifo.\n",
            "Toma 18: Humedad: 2.52 → Humedad baja. Grifo ya está abierto.\n",
            "Toma 19: Humedad: 0.53 → Humedad baja. Grifo ya está abierto.\n",
            "Toma 20: Humedad: 5.5 → Humedad normal. Cerrando grifo.\n"
          ]
        }
      ],
      "source": [
        "import random\n",
        "\n",
        "class SensorHumedad:\n",
        "    def __init__(self, num_lecturas=20):\n",
        "        self.num_lecturas = num_lecturas\n",
        "        self.lecturas = self.generar_lecturas()\n",
        "\n",
        "    def generar_lecturas(self):\n",
        "        return [round(random.uniform(0, 10), 2) for _ in range(self.num_lecturas)]\n",
        "\n",
        "class Actuador:\n",
        "    def __init__(self):\n",
        "        self.grifo_abierto = False\n",
        "\n",
        "    def actuar(self, lectura):\n",
        "        mensaje = f\"Humedad: {lectura} → \"\n",
        "\n",
        "        if lectura < 3:\n",
        "            if not self.grifo_abierto:\n",
        "                self.grifo_abierto = True\n",
        "                mensaje += \"ALERTA: Humedad baja. Abriendo grifo.\"\n",
        "            else:\n",
        "                mensaje += \"Humedad baja. Grifo ya está abierto.\"\n",
        "\n",
        "        elif 3 <= lectura <= 8:\n",
        "            if self.grifo_abierto:\n",
        "                self.grifo_abierto = False\n",
        "                mensaje += \"Humedad normal. Cerrando grifo.\"\n",
        "            else:\n",
        "                mensaje += \"Humedad normal. Grifo ya está cerrado.\"\n",
        "\n",
        "        elif lectura > 8:\n",
        "            if self.grifo_abierto:\n",
        "                self.grifo_abierto = False\n",
        "                mensaje += \"ALERTA: Alta humedad. Cerrando grifo. Activando sistema de absorción.\"\n",
        "            else:\n",
        "                mensaje += \"ALERTA: Alta humedad. Sistema de absorción activado.\"\n",
        "\n",
        "        return mensaje\n",
        "\n",
        "# Simulación del sistema completo\n",
        "sensor = SensorHumedad()\n",
        "actuador = Actuador()\n",
        "\n",
        "print(\"Simulación de sensor de humedad y actuador:\\n\")\n",
        "for i, lectura in enumerate(sensor.lecturas, 1):\n",
        "    resultado = actuador.actuar(lectura)\n",
        "    print(f\"Toma {i}: {resultado}\")\n"
      ]
    }
  ]
}