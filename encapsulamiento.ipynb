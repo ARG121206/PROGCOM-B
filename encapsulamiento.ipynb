{
  "nbformat": 4,
  "nbformat_minor": 0,
  "metadata": {
    "colab": {
      "provenance": []
    },
    "kernelspec": {
      "name": "python3",
      "display_name": "Python 3"
    },
    "language_info": {
      "name": "python"
    }
  },
  "cells": [
    {
      "cell_type": "code",
      "execution_count": null,
      "metadata": {
        "id": "j8WAyt7ToJFj"
      },
      "outputs": [],
      "source": [
        "class Estudiante:\n",
        "    def __init__(self, nombre, nota, id_estudiante):\n",
        "        self.__nombre = nombre\n",
        "        self.__nota = nota if 0 <= nota <= 100 else 0\n",
        "        self.id_estudiante = id_estudiante\n",
        "\n",
        "    def get_nombre(self):\n",
        "        return self.__nombre\n",
        "\n",
        "    def get_nota(self):\n",
        "        return self.__nota\n",
        "\n",
        "    def set_nota(self, nueva_nota):\n",
        "        if 0 <= nueva_nota <= 100:\n",
        "            self.__nota = nueva_nota\n",
        "\n",
        "e = Estudiante(\"Ana\", 85, 101)\n",
        "print(e.get_nombre(), e.get_nota(), e.id_estudiante)\n"
      ]
    },
    {
      "cell_type": "code",
      "source": [
        "class CuentaBancaria:\n",
        "    def __init__(self, titular, numero_cuenta):\n",
        "        self.__titular = titular\n",
        "        self.__saldo = 0\n",
        "        self._numero_cuenta = numero_cuenta\n",
        "\n",
        "    def get_titular(self):\n",
        "        return self.__titular\n",
        "\n",
        "    def depositar(self, monto):\n",
        "        if monto > 0:\n",
        "            self.__saldo += monto\n",
        "\n",
        "    def retirar(self, monto):\n",
        "        if 0 < monto <= self.__saldo:\n",
        "            self.__saldo -= monto\n",
        "\n",
        "c = CuentaBancaria(\"Juan\", \"12345678\")\n",
        "c.depositar(100)\n",
        "c.retirar(30)\n",
        "print(c.get_titular(), c._numero_cuenta)\n"
      ],
      "metadata": {
        "id": "pEjoJXRmoJ7F"
      },
      "execution_count": null,
      "outputs": []
    },
    {
      "cell_type": "code",
      "source": [
        "class Libro:\n",
        "    def __init__(self, titulo, autor, paginas, isbn):\n",
        "        self.__titulo = titulo\n",
        "        self.__autor = autor\n",
        "        self._paginas = paginas if paginas > 0 else 1\n",
        "        self.isbn = isbn\n",
        "\n",
        "    def get_titulo(self):\n",
        "        return self.__titulo\n",
        "\n",
        "    def get_autor(self):\n",
        "        return self.__autor\n",
        "\n",
        "    def set_paginas(self, nuevas_paginas):\n",
        "        if nuevas_paginas > 0:\n",
        "            self._paginas = nuevas_paginas\n",
        "\n",
        "l = Libro(\"1984\", \"Orwell\", 300, \"978-123456\")\n",
        "print(l.get_titulo(), l.get_autor(), l.isbn)\n"
      ],
      "metadata": {
        "id": "onsGRxuEoL7V"
      },
      "execution_count": null,
      "outputs": []
    },
    {
      "cell_type": "code",
      "source": [
        "class Vehiculo:\n",
        "    def __init__(self, marca, tipo):\n",
        "        self.__marca = marca\n",
        "        self.__velocidad = 0\n",
        "        self.tipo = tipo\n",
        "\n",
        "    def acelerar(self, cantidad):\n",
        "        if self.__velocidad + cantidad <= 200:\n",
        "            self.__velocidad += cantidad\n",
        "\n",
        "    def frenar(self, cantidad):\n",
        "        if self.__velocidad - cantidad >= 0:\n",
        "            self.__velocidad -= cantidad\n",
        "\n",
        "v = Vehiculo(\"Toyota\", \"auto\")\n",
        "v.acelerar(50)\n",
        "v.frenar(10)\n",
        "print(v.tipo)\n"
      ],
      "metadata": {
        "id": "K4YxnfgVoOPN"
      },
      "execution_count": null,
      "outputs": []
    },
    {
      "cell_type": "code",
      "source": [
        "class Empleado:\n",
        "    def __init__(self, nombre, salario, departamento, id_empleado):\n",
        "        self.__nombre = nombre\n",
        "        self.__salario = salario if salario >= 0 else 0\n",
        "        self._departamento = departamento\n",
        "        self.id_empleado = id_empleado\n",
        "\n",
        "    def get_nombre(self):\n",
        "        return self.__nombre\n",
        "\n",
        "    def get_salario(self):\n",
        "        return self.__salario\n",
        "\n",
        "    def get_departamento(self):\n",
        "        return self._departamento\n",
        "\n",
        "    def set_salario(self, nuevo_salario):\n",
        "        if nuevo_salario >= 0:\n",
        "            self.__salario = nuevo_salario\n",
        "\n",
        "emp = Empleado(\"Laura\", 3000, \"TI\", \"E123\")\n",
        "print(emp.get_nombre(), emp.get_salario(), emp.id_empleado)\n"
      ],
      "metadata": {
        "id": "K3xcUpaQoT01"
      },
      "execution_count": null,
      "outputs": []
    },
    {
      "cell_type": "code",
      "source": [
        "class Producto:\n",
        "    def __init__(self, nombre, precio, categoria, codigo):\n",
        "        self.__nombre = nombre\n",
        "        self.__precio = precio if precio > 0 else 1\n",
        "        self._categoria = categoria\n",
        "        self.codigo = codigo\n",
        "\n",
        "    def get_nombre(self):\n",
        "        return self.__nombre\n",
        "\n",
        "    def get_precio(self):\n",
        "        return self.__precio\n",
        "\n",
        "    def set_precio(self, nuevo_precio):\n",
        "        if nuevo_precio > 0:\n",
        "            self.__precio = nuevo_precio\n",
        "\n",
        "p = Producto(\"Mouse\", 25, \"Tecnología\", \"PRD123\")\n",
        "print(p.get_nombre(), p.get_precio(), p.codigo)\n"
      ],
      "metadata": {
        "id": "A7sXtk2_oaD8"
      },
      "execution_count": null,
      "outputs": []
    },
    {
      "cell_type": "code",
      "source": [
        "class Telefono:\n",
        "    def __init__(self, numero, marca, modelo):\n",
        "        self.__numero = numero\n",
        "        self.__marca = marca\n",
        "        self._bateria = 100\n",
        "        self.modelo = modelo\n",
        "\n",
        "    def cargar(self, cantidad):\n",
        "        self._bateria = min(self._bateria + cantidad, 100)\n",
        "\n",
        "    def usar(self, cantidad):\n",
        "        self._bateria = max(self._bateria - cantidad, 0)\n",
        "\n",
        "t = Telefono(\"5551234\", \"Samsung\", \"A51\")\n",
        "t.usar(30)\n",
        "print(t.modelo, \"batería:\", t._bateria)\n"
      ],
      "metadata": {
        "id": "WH0Yhjwsocbt"
      },
      "execution_count": null,
      "outputs": []
    },
    {
      "cell_type": "code",
      "source": [
        "class Paciente:\n",
        "    def __init__(self, nombre, edad, historial, numero_seguro):\n",
        "        self.__nombre = nombre\n",
        "        self.__edad = edad if edad >= 0 else 0\n",
        "        self._historial = historial\n",
        "        self.numero_seguro = numero_seguro\n",
        "\n",
        "    def get_nombre(self):\n",
        "        return self.__nombre\n",
        "\n",
        "    def get_edad(self):\n",
        "        return self.__edad\n",
        "\n",
        "    def set_edad(self, nueva_edad):\n",
        "        if nueva_edad >= 0:\n",
        "            self.__edad = nueva_edad\n",
        "\n",
        "p = Paciente(\"Carlos\", 45, \"Diabetes\", \"SEG789\")\n",
        "print(p.get_nombre(), p.get_edad(), p.numero_seguro)\n"
      ],
      "metadata": {
        "id": "otZsGVAvodoV"
      },
      "execution_count": null,
      "outputs": []
    },
    {
      "cell_type": "code",
      "source": [
        "class Computadora:\n",
        "    def __init__(self, marca, almacenamiento, so, numero_serie):\n",
        "        self.__marca = marca\n",
        "        self.__almacenamiento = almacenamiento if almacenamiento > 0 else 1\n",
        "        self._sistema_operativo = so\n",
        "        self.numero_serie = numero_serie\n",
        "\n",
        "    def get_marca(self):\n",
        "        return self.__marca\n",
        "\n",
        "    def get_almacenamiento(self):\n",
        "        return self.__almacenamiento\n",
        "\n",
        "    def get_so(self):\n",
        "        return self._sistema_operativo\n",
        "\n",
        "    def set_almacenamiento(self, nuevo_valor):\n",
        "        if nuevo_valor > 0:\n",
        "            self.__almacenamiento = nuevo_valor\n",
        "\n",
        "c = Computadora(\"HP\", 512, \"Windows\", \"SN00123\")\n",
        "print(c.get_marca(), c.get_almacenamiento(), c.numero_serie)\n"
      ],
      "metadata": {
        "id": "eiq2O6uAofB2"
      },
      "execution_count": null,
      "outputs": []
    },
    {
      "cell_type": "code",
      "source": [
        "class ReservaHotel:\n",
        "    def __init__(self, nombre, noches, tipo_habitacion, codigo_reserva):\n",
        "        self.__nombre = nombre\n",
        "        self.__noches = noches if noches > 0 else 1\n",
        "        self._tipo_habitacion = tipo_habitacion\n",
        "        self.codigo_reserva = codigo_reserva\n",
        "\n",
        "    def get_nombre(self):\n",
        "        return self.__nombre\n",
        "\n",
        "    def get_noches(self):\n",
        "        return self.__noches\n",
        "\n",
        "    def set_noches(self, nuevas_noches):\n",
        "        if nuevas_noches > 0:\n",
        "            self.__noches = nuevas_noches\n",
        "\n",
        "r = ReservaHotel(\"Luisa\", 3, \"Suite\", \"RES456\")\n",
        "print(r.get_nombre(), r.get_noches(), r.codigo_reserva)\n"
      ],
      "metadata": {
        "id": "q4gr2sfrogQl"
      },
      "execution_count": null,
      "outputs": []
    }
  ]
}