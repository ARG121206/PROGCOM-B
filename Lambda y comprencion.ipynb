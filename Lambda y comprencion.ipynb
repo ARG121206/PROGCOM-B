{
  "nbformat": 4,
  "nbformat_minor": 0,
  "metadata": {
    "colab": {
      "provenance": []
    },
    "kernelspec": {
      "name": "python3",
      "display_name": "Python 3"
    },
    "language_info": {
      "name": "python"
    }
  },
  "cells": [
    {
      "cell_type": "markdown",
      "source": [
        "Escribe un programa que adivine entre un conjunto de diez colores definidos por el usuario, con un máximo de 10 intentos.\n",
        "\n",
        "Desarrolla un programa que muestre los números pares del 1 al 100.\n",
        "\n",
        "Crea un programa que calcule la suma de los dígitos de un número.\n",
        "\n",
        "Escribe un programa que determine si un número es primo.\n",
        "\n",
        "Desarrolla un programa que muestre el patrón de un triángulo con asteriscos.\n",
        "\n",
        "Crea un programa que calcule la potencia de un número sin usar el operador **.\n",
        "\n",
        "\n",
        "Escribe un programa que muestre todas las tablas de multiplicar del 1 al 10.\n",
        "\n",
        "Desarrolla un programa que encuentre todos los números perfectos hasta n.\n",
        "\n",
        "Crea un programa que genere un patrón de diamante con asteriscos.\n",
        "\n",
        "Escribe un programa que encuentre todos los números Armstrong hasta n.\n",
        "\n",
        "Desarrolla un programa que simule un reloj digital mostrando horas, minutos y segundos durante un período específico."
      ],
      "metadata": {
        "id": "l10pfs90j2KT"
      }
    },
    {
      "cell_type": "code",
      "execution_count": 63,
      "metadata": {
        "colab": {
          "base_uri": "https://localhost:8080/"
        },
        "id": "X4dkRRrdjpNk",
        "outputId": "d172ad6a-9b3b-470c-8c47-d317a4f6abc7"
      },
      "outputs": [
        {
          "output_type": "stream",
          "name": "stdout",
          "text": [
            "Ingrese el nombre del color #1: rojo\n",
            "Ingrese el nombre del color #2: verde\n",
            "Ingrese el nombre del color #3: negro\n",
            "Ingrese el nombre del color #4: azul\n",
            "Ingrese el nombre del color #5: amarillo\n",
            "Ingrese el nombre del color #6: gris\n",
            "Ingrese el nombre del color #7: morado\n",
            "Ingrese el nombre del color #8: rosa\n",
            "Ingrese el nombre del color #9: purpura\n",
            "Ingrese el nombre del color #10: blanco\n",
            "Intento 1/10. Adivina el color: rojo\n",
            "Incorrecto. Intenta nuevamente.\n",
            "Intento 2/10. Adivina el color: verde\n",
            "Incorrecto. Intenta nuevamente.\n",
            "Intento 3/10. Adivina el color: azul\n",
            "Incorrecto. Intenta nuevamente.\n",
            "Intento 4/10. Adivina el color: amarillo\n",
            "Incorrecto. Intenta nuevamente.\n",
            "Intento 5/10. Adivina el color: rosa\n",
            "Incorrecto. Intenta nuevamente.\n",
            "Intento 6/10. Adivina el color: negro\n",
            "Incorrecto. Intenta nuevamente.\n",
            "Intento 7/10. Adivina el color: blanco\n",
            "Incorrecto. Intenta nuevamente.\n",
            "Intento 8/10. Adivina el color: purpura\n",
            "¡Felicidades! Adivinaste el color.\n"
          ]
        }
      ],
      "source": [
        "import random\n",
        "colores = []\n",
        "for i in range(10):\n",
        "    color = input(f\"Ingrese el nombre del color #{i+1}: \")\n",
        "    colores.append(color)\n",
        "color_seleccionado = random.choice(colores)\n",
        "def adivinar_color():\n",
        "    intentos = 0\n",
        "    max_intentos = 10\n",
        "    while intentos < max_intentos:\n",
        "        intento = input(f\"Intento {intentos + 1}/{max_intentos}. Adivina el color: \")\n",
        "        if intento.lower() == color_seleccionado.lower():\n",
        "            print(\"¡Felicidades! Adivinaste el color.\")\n",
        "            return\n",
        "        print(\"Incorrecto. Intenta nuevamente.\")\n",
        "        intentos += 1\n",
        "    print(f\"Lo siento, no adivinaste el color. El color correcto era {color_seleccionado}.\")\n",
        "adivinar_color()"
      ]
    },
    {
      "cell_type": "code",
      "source": [
        "import random\n",
        "colores = [input(f\"Ingrese el nombre del color #{i+1}: \") for i in range(10)]\n",
        "color_seleccionado = random.choice(colores)\n",
        "verificar_color = lambda intento: intento.lower() == color_seleccionado.lower()\n",
        "incrementar_intentos = lambda intentos: intentos + 1\n",
        "def adivinar_color():\n",
        "    intentos = 0\n",
        "    max_intentos = 10\n",
        "    while intentos < max_intentos:\n",
        "        intento = input(f\"Intento {intentos + 1}/{max_intentos}. Adivina el color: \")\n",
        "        if verificar_color(intento):\n",
        "            print(\"¡Felicidades! Adivinaste el color.\")\n",
        "            return\n",
        "        print(\"Incorrecto. Intenta nuevamente.\")\n",
        "        intentos = incrementar_intentos(intentos)\n",
        "    print(f\"Lo siento, no adivinaste el color. El color correcto era {color_seleccionado}.\")\n",
        "adivinar_color()"
      ],
      "metadata": {
        "colab": {
          "base_uri": "https://localhost:8080/"
        },
        "id": "FwABmHZspKHS",
        "outputId": "6245022d-f442-4e10-b6da-b6e6d03c048e"
      },
      "execution_count": 64,
      "outputs": [
        {
          "output_type": "stream",
          "name": "stdout",
          "text": [
            "Ingrese el nombre del color #1: a\n",
            "Ingrese el nombre del color #2: e\n",
            "Ingrese el nombre del color #3: r\n",
            "Ingrese el nombre del color #4: t\n",
            "Ingrese el nombre del color #5: y\n",
            "Ingrese el nombre del color #6: u\n",
            "Ingrese el nombre del color #7: i\n",
            "Ingrese el nombre del color #8: o\n",
            "Ingrese el nombre del color #9: p\n",
            "Ingrese el nombre del color #10: q\n",
            "Intento 1/10. Adivina el color: a\n",
            "Incorrecto. Intenta nuevamente.\n",
            "Intento 2/10. Adivina el color: e\n",
            "Incorrecto. Intenta nuevamente.\n",
            "Intento 3/10. Adivina el color: r\n",
            "Incorrecto. Intenta nuevamente.\n",
            "Intento 4/10. Adivina el color: t\n",
            "Incorrecto. Intenta nuevamente.\n",
            "Intento 5/10. Adivina el color: y\n",
            "Incorrecto. Intenta nuevamente.\n",
            "Intento 6/10. Adivina el color: u\n",
            "Incorrecto. Intenta nuevamente.\n",
            "Intento 7/10. Adivina el color: i\n",
            "Incorrecto. Intenta nuevamente.\n",
            "Intento 8/10. Adivina el color: o\n",
            "¡Felicidades! Adivinaste el color.\n"
          ]
        }
      ]
    },
    {
      "cell_type": "code",
      "source": [
        "pares = list(filter(lambda x: x % 2 == 0, range(1, 101)))\n",
        "print(pares)"
      ],
      "metadata": {
        "colab": {
          "base_uri": "https://localhost:8080/"
        },
        "id": "_9of8uEWpd8q",
        "outputId": "790ed578-f4c1-4c08-f7ca-f32da910bc3f"
      },
      "execution_count": 65,
      "outputs": [
        {
          "output_type": "stream",
          "name": "stdout",
          "text": [
            "[2, 4, 6, 8, 10, 12, 14, 16, 18, 20, 22, 24, 26, 28, 30, 32, 34, 36, 38, 40, 42, 44, 46, 48, 50, 52, 54, 56, 58, 60, 62, 64, 66, 68, 70, 72, 74, 76, 78, 80, 82, 84, 86, 88, 90, 92, 94, 96, 98, 100]\n"
          ]
        }
      ]
    },
    {
      "cell_type": "code",
      "source": [
        "pares = [x for x in range(1, 101) if x % 2 == 0]\n",
        "print(pares)"
      ],
      "metadata": {
        "colab": {
          "base_uri": "https://localhost:8080/"
        },
        "id": "PHI9iVkEqDqo",
        "outputId": "15f3686f-97fa-4ea5-b614-5e677378a8c8"
      },
      "execution_count": 66,
      "outputs": [
        {
          "output_type": "stream",
          "name": "stdout",
          "text": [
            "[2, 4, 6, 8, 10, 12, 14, 16, 18, 20, 22, 24, 26, 28, 30, 32, 34, 36, 38, 40, 42, 44, 46, 48, 50, 52, 54, 56, 58, 60, 62, 64, 66, 68, 70, 72, 74, 76, 78, 80, 82, 84, 86, 88, 90, 92, 94, 96, 98, 100]\n"
          ]
        }
      ]
    },
    {
      "cell_type": "code",
      "source": [
        "suma_digitos = lambda num: sum(map(int, str(num)))\n",
        "numero = int(input(\"Ingresa un número: \"))\n",
        "resultado = suma_digitos(numero)\n",
        "print(f\"La suma de los dígitos de {numero} es: {resultado}\")"
      ],
      "metadata": {
        "colab": {
          "base_uri": "https://localhost:8080/"
        },
        "id": "3u77n_I3qHCo",
        "outputId": "3193a0e1-7346-4e5c-c426-e1a52b107059"
      },
      "execution_count": 72,
      "outputs": [
        {
          "output_type": "stream",
          "name": "stdout",
          "text": [
            "Ingresa un número: 4567543\n",
            "La suma de los dígitos de 4567543 es: 34\n"
          ]
        }
      ]
    },
    {
      "cell_type": "code",
      "source": [
        "numero = int(input(\"Ingresa un número: \"))\n",
        "suma_digitos = sum([int(digito) for digito in str(numero)])\n",
        "print(f\"La suma de los dígitos de {numero} es: {suma_digitos}\")"
      ],
      "metadata": {
        "colab": {
          "base_uri": "https://localhost:8080/"
        },
        "id": "duX42_6jqeLg",
        "outputId": "29499267-fdff-4d0a-fcd3-053298a39e7d"
      },
      "execution_count": 73,
      "outputs": [
        {
          "output_type": "stream",
          "name": "stdout",
          "text": [
            "Ingresa un número: 11\n",
            "La suma de los dígitos de 11 es: 2\n"
          ]
        }
      ]
    },
    {
      "cell_type": "code",
      "source": [
        "es_primo = lambda num: all(num % i != 0 for i in range(2, int(num ** 0.5) + 1)) if num > 1 else False\n",
        "numero = int(input(\"Ingresa un número: \"))\n",
        "if es_primo(numero):\n",
        "    print(f\"{numero} es un número primo.\")\n",
        "else:\n",
        "    print(f\"{numero} no es un número primo.\")"
      ],
      "metadata": {
        "colab": {
          "base_uri": "https://localhost:8080/"
        },
        "id": "YHy3Ecb9qpka",
        "outputId": "89cc7bcf-8208-4773-e235-c13032802053"
      },
      "execution_count": 76,
      "outputs": [
        {
          "output_type": "stream",
          "name": "stdout",
          "text": [
            "Ingresa un número: 2\n",
            "2 es un número primo.\n"
          ]
        }
      ]
    },
    {
      "cell_type": "code",
      "source": [
        "numero = int(input(\"Ingresa un número: \"))\n",
        "es_primo = all([numero % i != 0 for i in range(2, int(numero ** 0.5) + 1)]) if numero > 1 else False\n",
        "if es_primo:\n",
        "    print(f\"{numero} es un número primo.\")\n",
        "else:\n",
        "    print(f\"{numero} no es un número primo.\")\n"
      ],
      "metadata": {
        "colab": {
          "base_uri": "https://localhost:8080/"
        },
        "id": "UChmssvasU4O",
        "outputId": "43ee2d5e-6eb2-4b9d-bc42-6dcc2e633266"
      },
      "execution_count": 77,
      "outputs": [
        {
          "output_type": "stream",
          "name": "stdout",
          "text": [
            "Ingresa un número: 2\n",
            "2 es un número primo.\n"
          ]
        }
      ]
    },
    {
      "cell_type": "code",
      "source": [
        "imprimir_triangulo = lambda filas: [print('*' * (i + 1)) for i in range(filas)]\n",
        "filas = int(input(\"Ingresa el número de filas para el triángulo: \"))\n",
        "imprimir_triangulo(filas)"
      ],
      "metadata": {
        "colab": {
          "base_uri": "https://localhost:8080/"
        },
        "id": "UonZYO2Msg32",
        "outputId": "46dafba8-3827-4c2c-8a8b-4393faee4227"
      },
      "execution_count": 78,
      "outputs": [
        {
          "output_type": "stream",
          "name": "stdout",
          "text": [
            "Ingresa el número de filas para el triángulo: 6\n",
            "*\n",
            "**\n",
            "***\n",
            "****\n",
            "*****\n",
            "******\n"
          ]
        },
        {
          "output_type": "execute_result",
          "data": {
            "text/plain": [
              "[None, None, None, None, None, None]"
            ]
          },
          "metadata": {},
          "execution_count": 78
        }
      ]
    },
    {
      "cell_type": "code",
      "source": [
        "filas = int(input(\"Ingresa el número de filas para el triángulo: \"))\n",
        "[print('*' * (i + 1)) for i in range(filas)]"
      ],
      "metadata": {
        "colab": {
          "base_uri": "https://localhost:8080/"
        },
        "id": "_Uim9nTsszXH",
        "outputId": "45e7e01f-c8dd-40f5-d500-84ff28461ede"
      },
      "execution_count": 79,
      "outputs": [
        {
          "output_type": "stream",
          "name": "stdout",
          "text": [
            "Ingresa el número de filas para el triángulo: 9\n",
            "*\n",
            "**\n",
            "***\n",
            "****\n",
            "*****\n",
            "******\n",
            "*******\n",
            "********\n",
            "*********\n"
          ]
        },
        {
          "output_type": "execute_result",
          "data": {
            "text/plain": [
              "[None, None, None, None, None, None, None, None, None]"
            ]
          },
          "metadata": {},
          "execution_count": 79
        }
      ]
    },
    {
      "cell_type": "code",
      "source": [
        "potencia = lambda base, exponente: reduce(lambda x, _: x * base, range(exponente), 1) if exponente > 0 else 1\n",
        "from functools import reduce\n",
        "base = int(input(\"Ingresa la base: \"))\n",
        "exponente = int(input(\"Ingresa el exponente: \"))\n",
        "resultado = potencia(base, exponente)\n",
        "print(f\"{base} elevado a la potencia de {exponente} es: {resultado}\")"
      ],
      "metadata": {
        "colab": {
          "base_uri": "https://localhost:8080/"
        },
        "id": "SD0oi5tjtFQ0",
        "outputId": "3eaa5f00-d9fb-4e56-cd75-cc8033dbb480"
      },
      "execution_count": 80,
      "outputs": [
        {
          "output_type": "stream",
          "name": "stdout",
          "text": [
            "Ingresa la base: 2\n",
            "Ingresa el exponente: 5\n",
            "2 elevado a la potencia de 5 es: 32\n"
          ]
        }
      ]
    },
    {
      "cell_type": "code",
      "source": [
        "potencia = lambda base, exponente: base if exponente == 0 else reduce(lambda x, _: x * base, [1] * exponente)\n",
        "from functools import reduce\n",
        "base = int(input(\"Ingresa la base: \"))\n",
        "exponente = int(input(\"Ingresa el exponente: \"))\n",
        "resultado = potencia(base, exponente)\n",
        "print(f\"{base} elevado a la potencia de {exponente} es: {resultado}\")"
      ],
      "metadata": {
        "colab": {
          "base_uri": "https://localhost:8080/"
        },
        "id": "MZlAO8Ubtbx8",
        "outputId": "7d11da33-0a26-4cea-b2c4-6c84d8972d6f"
      },
      "execution_count": 86,
      "outputs": [
        {
          "output_type": "stream",
          "name": "stdout",
          "text": [
            "Ingresa la base: 5\n",
            "Ingresa el exponente: 4\n",
            "5 elevado a la potencia de 4 es: 125\n"
          ]
        }
      ]
    },
    {
      "cell_type": "code",
      "source": [
        "mostrar_tablas = lambda: [print(f\"Tabla del {i}:\\n\" + \"\\n\".join([f\"{i} x {j} = {i * j}\" for j in range(1, 11)]), \"\\n\") for i in range(1, 11)]\n",
        "mostrar_tablas()"
      ],
      "metadata": {
        "colab": {
          "base_uri": "https://localhost:8080/"
        },
        "id": "fZ_3D_cHtsXk",
        "outputId": "2ea38219-fd10-42e4-ffd6-0d957cdfecc4"
      },
      "execution_count": 87,
      "outputs": [
        {
          "output_type": "stream",
          "name": "stdout",
          "text": [
            "Tabla del 1:\n",
            "1 x 1 = 1\n",
            "1 x 2 = 2\n",
            "1 x 3 = 3\n",
            "1 x 4 = 4\n",
            "1 x 5 = 5\n",
            "1 x 6 = 6\n",
            "1 x 7 = 7\n",
            "1 x 8 = 8\n",
            "1 x 9 = 9\n",
            "1 x 10 = 10 \n",
            "\n",
            "Tabla del 2:\n",
            "2 x 1 = 2\n",
            "2 x 2 = 4\n",
            "2 x 3 = 6\n",
            "2 x 4 = 8\n",
            "2 x 5 = 10\n",
            "2 x 6 = 12\n",
            "2 x 7 = 14\n",
            "2 x 8 = 16\n",
            "2 x 9 = 18\n",
            "2 x 10 = 20 \n",
            "\n",
            "Tabla del 3:\n",
            "3 x 1 = 3\n",
            "3 x 2 = 6\n",
            "3 x 3 = 9\n",
            "3 x 4 = 12\n",
            "3 x 5 = 15\n",
            "3 x 6 = 18\n",
            "3 x 7 = 21\n",
            "3 x 8 = 24\n",
            "3 x 9 = 27\n",
            "3 x 10 = 30 \n",
            "\n",
            "Tabla del 4:\n",
            "4 x 1 = 4\n",
            "4 x 2 = 8\n",
            "4 x 3 = 12\n",
            "4 x 4 = 16\n",
            "4 x 5 = 20\n",
            "4 x 6 = 24\n",
            "4 x 7 = 28\n",
            "4 x 8 = 32\n",
            "4 x 9 = 36\n",
            "4 x 10 = 40 \n",
            "\n",
            "Tabla del 5:\n",
            "5 x 1 = 5\n",
            "5 x 2 = 10\n",
            "5 x 3 = 15\n",
            "5 x 4 = 20\n",
            "5 x 5 = 25\n",
            "5 x 6 = 30\n",
            "5 x 7 = 35\n",
            "5 x 8 = 40\n",
            "5 x 9 = 45\n",
            "5 x 10 = 50 \n",
            "\n",
            "Tabla del 6:\n",
            "6 x 1 = 6\n",
            "6 x 2 = 12\n",
            "6 x 3 = 18\n",
            "6 x 4 = 24\n",
            "6 x 5 = 30\n",
            "6 x 6 = 36\n",
            "6 x 7 = 42\n",
            "6 x 8 = 48\n",
            "6 x 9 = 54\n",
            "6 x 10 = 60 \n",
            "\n",
            "Tabla del 7:\n",
            "7 x 1 = 7\n",
            "7 x 2 = 14\n",
            "7 x 3 = 21\n",
            "7 x 4 = 28\n",
            "7 x 5 = 35\n",
            "7 x 6 = 42\n",
            "7 x 7 = 49\n",
            "7 x 8 = 56\n",
            "7 x 9 = 63\n",
            "7 x 10 = 70 \n",
            "\n",
            "Tabla del 8:\n",
            "8 x 1 = 8\n",
            "8 x 2 = 16\n",
            "8 x 3 = 24\n",
            "8 x 4 = 32\n",
            "8 x 5 = 40\n",
            "8 x 6 = 48\n",
            "8 x 7 = 56\n",
            "8 x 8 = 64\n",
            "8 x 9 = 72\n",
            "8 x 10 = 80 \n",
            "\n",
            "Tabla del 9:\n",
            "9 x 1 = 9\n",
            "9 x 2 = 18\n",
            "9 x 3 = 27\n",
            "9 x 4 = 36\n",
            "9 x 5 = 45\n",
            "9 x 6 = 54\n",
            "9 x 7 = 63\n",
            "9 x 8 = 72\n",
            "9 x 9 = 81\n",
            "9 x 10 = 90 \n",
            "\n",
            "Tabla del 10:\n",
            "10 x 1 = 10\n",
            "10 x 2 = 20\n",
            "10 x 3 = 30\n",
            "10 x 4 = 40\n",
            "10 x 5 = 50\n",
            "10 x 6 = 60\n",
            "10 x 7 = 70\n",
            "10 x 8 = 80\n",
            "10 x 9 = 90\n",
            "10 x 10 = 100 \n",
            "\n"
          ]
        },
        {
          "output_type": "execute_result",
          "data": {
            "text/plain": [
              "[None, None, None, None, None, None, None, None, None, None]"
            ]
          },
          "metadata": {},
          "execution_count": 87
        }
      ]
    },
    {
      "cell_type": "code",
      "source": [
        "[print(f\"Tabla del {i}:\\n\" + \"\\n\".join([f\"{i} x {j} = {i * j}\" for j in range(1, 11)]), \"\\n\") for i in range(1, 11)]"
      ],
      "metadata": {
        "colab": {
          "base_uri": "https://localhost:8080/"
        },
        "id": "ORj6W5HSuABz",
        "outputId": "da0ddf84-479a-4bea-82da-14231cf689fe"
      },
      "execution_count": 88,
      "outputs": [
        {
          "output_type": "stream",
          "name": "stdout",
          "text": [
            "Tabla del 1:\n",
            "1 x 1 = 1\n",
            "1 x 2 = 2\n",
            "1 x 3 = 3\n",
            "1 x 4 = 4\n",
            "1 x 5 = 5\n",
            "1 x 6 = 6\n",
            "1 x 7 = 7\n",
            "1 x 8 = 8\n",
            "1 x 9 = 9\n",
            "1 x 10 = 10 \n",
            "\n",
            "Tabla del 2:\n",
            "2 x 1 = 2\n",
            "2 x 2 = 4\n",
            "2 x 3 = 6\n",
            "2 x 4 = 8\n",
            "2 x 5 = 10\n",
            "2 x 6 = 12\n",
            "2 x 7 = 14\n",
            "2 x 8 = 16\n",
            "2 x 9 = 18\n",
            "2 x 10 = 20 \n",
            "\n",
            "Tabla del 3:\n",
            "3 x 1 = 3\n",
            "3 x 2 = 6\n",
            "3 x 3 = 9\n",
            "3 x 4 = 12\n",
            "3 x 5 = 15\n",
            "3 x 6 = 18\n",
            "3 x 7 = 21\n",
            "3 x 8 = 24\n",
            "3 x 9 = 27\n",
            "3 x 10 = 30 \n",
            "\n",
            "Tabla del 4:\n",
            "4 x 1 = 4\n",
            "4 x 2 = 8\n",
            "4 x 3 = 12\n",
            "4 x 4 = 16\n",
            "4 x 5 = 20\n",
            "4 x 6 = 24\n",
            "4 x 7 = 28\n",
            "4 x 8 = 32\n",
            "4 x 9 = 36\n",
            "4 x 10 = 40 \n",
            "\n",
            "Tabla del 5:\n",
            "5 x 1 = 5\n",
            "5 x 2 = 10\n",
            "5 x 3 = 15\n",
            "5 x 4 = 20\n",
            "5 x 5 = 25\n",
            "5 x 6 = 30\n",
            "5 x 7 = 35\n",
            "5 x 8 = 40\n",
            "5 x 9 = 45\n",
            "5 x 10 = 50 \n",
            "\n",
            "Tabla del 6:\n",
            "6 x 1 = 6\n",
            "6 x 2 = 12\n",
            "6 x 3 = 18\n",
            "6 x 4 = 24\n",
            "6 x 5 = 30\n",
            "6 x 6 = 36\n",
            "6 x 7 = 42\n",
            "6 x 8 = 48\n",
            "6 x 9 = 54\n",
            "6 x 10 = 60 \n",
            "\n",
            "Tabla del 7:\n",
            "7 x 1 = 7\n",
            "7 x 2 = 14\n",
            "7 x 3 = 21\n",
            "7 x 4 = 28\n",
            "7 x 5 = 35\n",
            "7 x 6 = 42\n",
            "7 x 7 = 49\n",
            "7 x 8 = 56\n",
            "7 x 9 = 63\n",
            "7 x 10 = 70 \n",
            "\n",
            "Tabla del 8:\n",
            "8 x 1 = 8\n",
            "8 x 2 = 16\n",
            "8 x 3 = 24\n",
            "8 x 4 = 32\n",
            "8 x 5 = 40\n",
            "8 x 6 = 48\n",
            "8 x 7 = 56\n",
            "8 x 8 = 64\n",
            "8 x 9 = 72\n",
            "8 x 10 = 80 \n",
            "\n",
            "Tabla del 9:\n",
            "9 x 1 = 9\n",
            "9 x 2 = 18\n",
            "9 x 3 = 27\n",
            "9 x 4 = 36\n",
            "9 x 5 = 45\n",
            "9 x 6 = 54\n",
            "9 x 7 = 63\n",
            "9 x 8 = 72\n",
            "9 x 9 = 81\n",
            "9 x 10 = 90 \n",
            "\n",
            "Tabla del 10:\n",
            "10 x 1 = 10\n",
            "10 x 2 = 20\n",
            "10 x 3 = 30\n",
            "10 x 4 = 40\n",
            "10 x 5 = 50\n",
            "10 x 6 = 60\n",
            "10 x 7 = 70\n",
            "10 x 8 = 80\n",
            "10 x 9 = 90\n",
            "10 x 10 = 100 \n",
            "\n"
          ]
        },
        {
          "output_type": "execute_result",
          "data": {
            "text/plain": [
              "[None, None, None, None, None, None, None, None, None, None]"
            ]
          },
          "metadata": {},
          "execution_count": 88
        }
      ]
    },
    {
      "cell_type": "code",
      "source": [
        "es_perfecto = lambda num: num == sum([i for i in range(1, num) if num % i == 0])\n",
        "n = int(input(\"Ingresa un número hasta el cual encontrar números perfectos: \"))\n",
        "perfectos = [num for num in range(2, n + 1) if es_perfecto(num)]\n",
        "print(f\"Los números perfectos hasta {n} son: {perfectos}\")"
      ],
      "metadata": {
        "colab": {
          "base_uri": "https://localhost:8080/"
        },
        "id": "1RwVTCTxuNcE",
        "outputId": "b24bced6-f98b-4903-e1b2-a8bd8f377836"
      },
      "execution_count": 90,
      "outputs": [
        {
          "output_type": "stream",
          "name": "stdout",
          "text": [
            "Ingresa un número hasta el cual encontrar números perfectos: 100\n",
            "Los números perfectos hasta 100 son: [6, 28]\n"
          ]
        }
      ]
    },
    {
      "cell_type": "code",
      "source": [
        "n = int(input(\"Ingresa un número hasta el cual encontrar números perfectos: \"))\n",
        "perfectos = [num for num in range(2, n + 1) if num == sum([i for i in range(1, num) if num % i == 0])]\n",
        "print(f\"Los números perfectos hasta {n} son: {perfectos}\")"
      ],
      "metadata": {
        "colab": {
          "base_uri": "https://localhost:8080/"
        },
        "id": "JZszuv0wupKf",
        "outputId": "e41e79c2-ab6b-48c0-a0f1-06dc7772d398"
      },
      "execution_count": 91,
      "outputs": [
        {
          "output_type": "stream",
          "name": "stdout",
          "text": [
            "Ingresa un número hasta el cual encontrar números perfectos: 100\n",
            "Los números perfectos hasta 100 son: [6, 28]\n"
          ]
        }
      ]
    },
    {
      "cell_type": "code",
      "source": [
        "generar_diamante = lambda filas: [print(' ' * (filas - i - 1) + '*' * (2 * i + 1)) for i in range(filas)] + [print(' ' * (i + 1) + '*' * (2 * (filas - i - 2) + 1)) for i in range(filas - 1)]\n",
        "filas = int(input(\"Ingresa el número de filas para la mitad superior del diamante: \"))\n",
        "generar_diamante(filas)"
      ],
      "metadata": {
        "colab": {
          "base_uri": "https://localhost:8080/"
        },
        "id": "l-CRLbBHu2vD",
        "outputId": "9c994621-672b-42bd-9ae3-f6e9d3f2ff09"
      },
      "execution_count": 92,
      "outputs": [
        {
          "output_type": "stream",
          "name": "stdout",
          "text": [
            "Ingresa el número de filas para la mitad superior del diamante: 4\n",
            "   *\n",
            "  ***\n",
            " *****\n",
            "*******\n",
            " *****\n",
            "  ***\n",
            "   *\n"
          ]
        },
        {
          "output_type": "execute_result",
          "data": {
            "text/plain": [
              "[None, None, None, None, None, None, None]"
            ]
          },
          "metadata": {},
          "execution_count": 92
        }
      ]
    },
    {
      "cell_type": "code",
      "source": [
        "filas = int(input(\"Ingresa el número de filas para la mitad superior del diamante: \"))\n",
        "[print(' ' * (filas - i - 1) + '*' * (2 * i + 1)) for i in range(filas)]\n",
        "[print(' ' * (i + 1) + '*' * (2 * (filas - i - 2) + 1)) for i in range(filas - 1)]"
      ],
      "metadata": {
        "colab": {
          "base_uri": "https://localhost:8080/"
        },
        "id": "LXBPYxdnvBtK",
        "outputId": "7d923b7c-b680-4de3-e077-478fb5e2e4c0"
      },
      "execution_count": 93,
      "outputs": [
        {
          "output_type": "stream",
          "name": "stdout",
          "text": [
            "Ingresa el número de filas para la mitad superior del diamante: 5\n",
            "    *\n",
            "   ***\n",
            "  *****\n",
            " *******\n",
            "*********\n",
            " *******\n",
            "  *****\n",
            "   ***\n",
            "    *\n"
          ]
        },
        {
          "output_type": "execute_result",
          "data": {
            "text/plain": [
              "[None, None, None, None]"
            ]
          },
          "metadata": {},
          "execution_count": 93
        }
      ]
    },
    {
      "cell_type": "code",
      "source": [
        "es_armstrong = lambda num: num == sum([int(digit) ** len(str(num)) for digit in str(num)])\n",
        "n = int(input(\"Ingresa un número hasta el cual encontrar números Armstrong: \"))\n",
        "armstrong_numbers = [num for num in range(1, n + 1) if es_armstrong(num)]\n",
        "print(f\"Los números Armstrong hasta {n} son: {armstrong_numbers}\")"
      ],
      "metadata": {
        "colab": {
          "base_uri": "https://localhost:8080/"
        },
        "id": "TJgIt1Q7vTiM",
        "outputId": "c542b145-8dc3-4819-baa0-fac7bbc728c8"
      },
      "execution_count": 94,
      "outputs": [
        {
          "output_type": "stream",
          "name": "stdout",
          "text": [
            "Ingresa un número hasta el cual encontrar números Armstrong: 1000\n",
            "Los números Armstrong hasta 1000 son: [1, 2, 3, 4, 5, 6, 7, 8, 9, 153, 370, 371, 407]\n"
          ]
        }
      ]
    },
    {
      "cell_type": "code",
      "source": [
        "def numeros_armstrong(n):\n",
        "    return [x for x in range(n + 1) if x == sum(int(d)**len(str(x)) for d in str(x))]\n",
        "n = int(input(\"Ingresa un número: \"))\n",
        "print(\"Números de Armstrong hasta\", n, \":\", numeros_armstrong(n))"
      ],
      "metadata": {
        "colab": {
          "base_uri": "https://localhost:8080/"
        },
        "id": "IxCx16AGvbhf",
        "outputId": "0dc3ce22-c442-4640-9aa3-84bd42be4eb3"
      },
      "execution_count": 95,
      "outputs": [
        {
          "output_type": "stream",
          "name": "stdout",
          "text": [
            "Ingresa un número: 1000\n",
            "Números de Armstrong hasta 1000 : [0, 1, 2, 3, 4, 5, 6, 7, 8, 9, 153, 370, 371, 407]\n"
          ]
        }
      ]
    },
    {
      "cell_type": "code",
      "source": [
        "import time\n",
        "reloj_digital = lambda h, m, s, duracion: [print(f\"{hora:02}:{minuto:02}:{segundo:02}\") or time.sleep(1) for _ in range(duracion) for hora in range(h, 24) for minuto in range(m, 60) for segundo in range(s, 60)]\n",
        "inicio_hora = int(input(\"Hora de inicio (0-23): \"))\n",
        "inicio_minuto = int(input(\"Minuto de inicio (0-59): \"))\n",
        "inicio_segundo = int(input(\"Segundo de inicio (0-59): \"))\n",
        "duracion = int(input(\"Duración en segundos: \"))\n",
        "reloj_digital(inicio_hora, inicio_minuto, inicio_segundo, duracion)"
      ],
      "metadata": {
        "colab": {
          "base_uri": "https://localhost:8080/"
        },
        "id": "gSGfA5KIwg54",
        "outputId": "45548f59-d57a-4329-94a0-08674cdf4b1a"
      },
      "execution_count": null,
      "outputs": [
        {
          "output_type": "stream",
          "name": "stdout",
          "text": [
            "Hora de inicio (0-23): 12\n",
            "Minuto de inicio (0-59): 12\n",
            "Segundo de inicio (0-59): 12\n",
            "Duración en segundos: 30\n",
            "12:12:12\n",
            "12:12:13\n",
            "12:12:14\n",
            "12:12:15\n",
            "12:12:16\n",
            "12:12:17\n",
            "12:12:18\n",
            "12:12:19\n",
            "12:12:20\n",
            "12:12:21\n",
            "12:12:22\n",
            "12:12:23\n",
            "12:12:24\n",
            "12:12:25\n",
            "12:12:26\n",
            "12:12:27\n",
            "12:12:28\n",
            "12:12:29\n",
            "12:12:30\n",
            "12:12:31\n",
            "12:12:32\n",
            "12:12:33\n",
            "12:12:34\n",
            "12:12:35\n",
            "12:12:36\n",
            "12:12:37\n",
            "12:12:38\n",
            "12:12:39\n",
            "12:12:40\n",
            "12:12:41\n",
            "12:12:42\n",
            "12:12:43\n",
            "12:12:44\n",
            "12:12:45\n",
            "12:12:46\n",
            "12:12:47\n",
            "12:12:48\n",
            "12:12:49\n",
            "12:12:50\n",
            "12:12:51\n",
            "12:12:52\n",
            "12:12:53\n",
            "12:12:54\n",
            "12:12:55\n",
            "12:12:56\n",
            "12:12:57\n",
            "12:12:58\n",
            "12:12:59\n",
            "12:13:12\n",
            "12:13:13\n",
            "12:13:14\n",
            "12:13:15\n",
            "12:13:16\n",
            "12:13:17\n",
            "12:13:18\n",
            "12:13:19\n",
            "12:13:20\n",
            "12:13:21\n",
            "12:13:22\n",
            "12:13:23\n",
            "12:13:24\n",
            "12:13:25\n",
            "12:13:26\n",
            "12:13:27\n",
            "12:13:28\n",
            "12:13:29\n",
            "12:13:30\n",
            "12:13:31\n",
            "12:13:32\n",
            "12:13:33\n",
            "12:13:34\n",
            "12:13:35\n",
            "12:13:36\n",
            "12:13:37\n",
            "12:13:38\n",
            "12:13:39\n",
            "12:13:40\n",
            "12:13:41\n",
            "12:13:42\n",
            "12:13:43\n",
            "12:13:44\n",
            "12:13:45\n",
            "12:13:46\n",
            "12:13:47\n",
            "12:13:48\n",
            "12:13:49\n",
            "12:13:50\n",
            "12:13:51\n",
            "12:13:52\n",
            "12:13:53\n",
            "12:13:54\n",
            "12:13:55\n",
            "12:13:56\n",
            "12:13:57\n"
          ]
        }
      ]
    },
    {
      "cell_type": "code",
      "source": [
        "import time\n",
        "reloj_digital = lambda h, m, s, duracion: [print(f\"{(h + (m + (s + t) // 60) // 60) % 24:02}:{(m + (s + t) // 60) % 60:02}:{(s + t) % 60:02}\") or time.sleep(1) for t in range(duracion)]\n",
        "inicio_hora = int(input(\"Hora de inicio (0-23): \"))\n",
        "inicio_minuto = int(input(\"Minuto de inicio (0-59): \"))\n",
        "inicio_segundo = int(input(\"Segundo de inicio (0-59): \"))\n",
        "duracion = int(input(\"Duración en segundos: \"))\n",
        "reloj_digital(inicio_hora, inicio_minuto, inicio_segundo, duracion)"
      ],
      "metadata": {
        "id": "jvpsD-uzw4x4"
      },
      "execution_count": null,
      "outputs": []
    }
  ]
}