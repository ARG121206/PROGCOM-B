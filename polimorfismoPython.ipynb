{
  "nbformat": 4,
  "nbformat_minor": 0,
  "metadata": {
    "colab": {
      "provenance": []
    },
    "kernelspec": {
      "name": "python3",
      "display_name": "Python 3"
    },
    "language_info": {
      "name": "python"
    }
  },
  "cells": [
    {
      "cell_type": "code",
      "execution_count": null,
      "metadata": {
        "id": "d_7s890er9Vu"
      },
      "outputs": [],
      "source": [
        "class Animal:\n",
        "    def hacer_sonido(self):\n",
        "        raise NotImplementedError\n",
        "\n",
        "class Perro(Animal):\n",
        "    def hacer_sonido(self):\n",
        "        return \"Guau\"\n",
        "\n",
        "class Gato(Animal):\n",
        "    def hacer_sonido(self):\n",
        "        return \"Miau\"\n",
        "\n",
        "animales = [Perro(), Gato()]\n",
        "for animal in animales:\n",
        "    print(animal.hacer_sonido())\n"
      ]
    },
    {
      "cell_type": "code",
      "source": [
        "import math\n",
        "\n",
        "class Forma:\n",
        "    def calcular_area(self):\n",
        "        raise NotImplementedError\n",
        "\n",
        "class Circulo(Forma):\n",
        "    def __init__(self, radio):\n",
        "        self.radio = radio\n",
        "\n",
        "    def calcular_area(self):\n",
        "        return math.pi * self.radio ** 2\n",
        "\n",
        "class Rectangulo(Forma):\n",
        "    def __init__(self, base, altura):\n",
        "        self.base = base\n",
        "        self.altura = altura\n",
        "\n",
        "    def calcular_area(self):\n",
        "        return self.base * self.altura\n",
        "\n",
        "formas = [Circulo(3), Rectangulo(4, 5)]\n",
        "for forma in formas:\n",
        "    print(forma.calcular_area())\n"
      ],
      "metadata": {
        "id": "5NriyiDZr-Sq"
      },
      "execution_count": null,
      "outputs": []
    },
    {
      "cell_type": "code",
      "source": [
        "class Forma:\n",
        "    def calcular_area(self):\n",
        "        raise NotImplementedError\n",
        "\n",
        "class Circulo(Forma):\n",
        "    def __init__(self, radio):\n",
        "        self.radio = radio\n",
        "\n",
        "    def calcular_area(self):\n",
        "        return 3.14 * self.radio ** 2\n",
        "\n",
        "class Rectangulo(Forma):\n",
        "    def __init__(self, largo, ancho):\n",
        "        self.largo = largo\n",
        "        self.ancho = ancho\n",
        "\n",
        "    def calcular_area(self):\n",
        "        return self.largo * self.ancho\n",
        "\n",
        "formas = [Circulo(5), Rectangulo(6, 2)]\n",
        "for f in formas:\n",
        "    print(f.calcular_area())\n"
      ],
      "metadata": {
        "id": "SosWsPW3sAo6"
      },
      "execution_count": null,
      "outputs": []
    },
    {
      "cell_type": "code",
      "source": [
        "class Calculadora:\n",
        "    def operar(self, *args):\n",
        "        if len(args) == 2:\n",
        "            return args[0] + args[1]\n",
        "        elif len(args) == 3:\n",
        "            return args[0] * args[1] * args[2]\n",
        "        else:\n",
        "            return \"Operación no soportada\"\n",
        "\n",
        "calc = Calculadora()\n",
        "print(calc.operar(2, 3))       # Suma\n",
        "print(calc.operar(2, 3, 4))    # Multiplicación\n"
      ],
      "metadata": {
        "id": "5MMvW-oQsCDa"
      },
      "execution_count": null,
      "outputs": []
    },
    {
      "cell_type": "code",
      "source": [
        "class Figura:\n",
        "    def dibujar(self):\n",
        "        raise NotImplementedError\n",
        "\n",
        "class Circulo(Figura):\n",
        "    def dibujar(self):\n",
        "        return \"Dibujando un círculo\"\n",
        "\n",
        "class Rectangulo(Figura):\n",
        "    def dibujar(self):\n",
        "        return \"Dibujando un rectángulo\"\n",
        "\n",
        "figuras = [Circulo(), Rectangulo()]\n",
        "for f in figuras:\n",
        "    print(f.dibujar())\n"
      ],
      "metadata": {
        "id": "7fj9WDS3sEsq"
      },
      "execution_count": null,
      "outputs": []
    },
    {
      "cell_type": "code",
      "source": [
        "class Empleado:\n",
        "    def trabajar(self):\n",
        "        raise NotImplementedError\n",
        "\n",
        "class Gerente(Empleado):\n",
        "    def trabajar(self):\n",
        "        return \"Gestionando equipo\"\n",
        "\n",
        "class Desarrollador(Empleado):\n",
        "    def trabajar(self):\n",
        "        return \"Escribiendo código\"\n",
        "\n",
        "empleados = [Gerente(), Desarrollador()]\n",
        "for e in empleados:\n",
        "    print(e.trabajar())\n"
      ],
      "metadata": {
        "id": "uVAkt3BPsGL1"
      },
      "execution_count": null,
      "outputs": []
    },
    {
      "cell_type": "code",
      "source": [
        "class Fruta:\n",
        "    def describir(self):\n",
        "        raise NotImplementedError\n",
        "\n",
        "class Manzana(Fruta):\n",
        "    def describir(self):\n",
        "        return \"Manzana: dulce y roja\"\n",
        "\n",
        "class Naranja(Fruta):\n",
        "    def describir(self):\n",
        "        return \"Naranja: cítrica y jugosa\"\n",
        "\n",
        "frutas = [Manzana(), Naranja()]\n",
        "for f in frutas:\n",
        "    print(f.describir())\n"
      ],
      "metadata": {
        "id": "_m2dEb4UsHhC"
      },
      "execution_count": null,
      "outputs": []
    },
    {
      "cell_type": "code",
      "source": [
        "class Pais:\n",
        "    def capital(self):\n",
        "        raise NotImplementedError\n",
        "\n",
        "class Argentina(Pais):\n",
        "    def capital(self):\n",
        "        return \"Buenos Aires\"\n",
        "\n",
        "class Francia(Pais):\n",
        "    def capital(self):\n",
        "        return \"París\"\n",
        "\n",
        "paises = [Argentina(), Francia()]\n",
        "for p in paises:\n",
        "    print(p.capital())\n"
      ],
      "metadata": {
        "id": "KyfFgaKPsIGq"
      },
      "execution_count": null,
      "outputs": []
    },
    {
      "cell_type": "code",
      "source": [
        "class Pais:\n",
        "    def idioma(self):\n",
        "        raise NotImplementedError\n",
        "\n",
        "class Mexico(Pais):\n",
        "    def idioma(self):\n",
        "        return \"Español\"\n",
        "\n",
        "class Alemania(Pais):\n",
        "    def idioma(self):\n",
        "        return \"Alemán\"\n",
        "\n",
        "for pais in [Mexico(), Alemania()]:\n",
        "    print(pais.idioma())\n"
      ],
      "metadata": {
        "id": "HxBiZAgtsJ79"
      },
      "execution_count": null,
      "outputs": []
    },
    {
      "cell_type": "code",
      "source": [
        "class Instrumento:\n",
        "    def tocar(self):\n",
        "        raise NotImplementedError\n",
        "\n",
        "class Guitarra(Instrumento):\n",
        "    def tocar(self):\n",
        "        return \"Sonido de guitarra 🎸\"\n",
        "\n",
        "class Tambor(Instrumento):\n",
        "    def tocar(self):\n",
        "        return \"Sonido de tambor 🥁\"\n",
        "\n",
        "instrumentos = [Guitarra(), Tambor()]\n",
        "for i in instrumentos:\n",
        "    print(i.tocar())\n"
      ],
      "metadata": {
        "id": "_w64hRb7sLNc"
      },
      "execution_count": null,
      "outputs": []
    }
  ]
}