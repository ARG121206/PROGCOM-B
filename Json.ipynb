{
  "nbformat": 4,
  "nbformat_minor": 0,
  "metadata": {
    "colab": {
      "provenance": []
    },
    "kernelspec": {
      "name": "python3",
      "display_name": "Python 3"
    },
    "language_info": {
      "name": "python"
    }
  },
  "cells": [
    {
      "cell_type": "code",
      "execution_count": null,
      "metadata": {
        "id": "oBWqe_Z1uEmJ"
      },
      "outputs": [],
      "source": [
        "{\n",
        "  \"nombre_completo\": \"Ana Gómez\",\n",
        "  \"edad\": 28,\n",
        "  \"ciudad\": \"Barranquilla\"\n",
        "}\n"
      ]
    },
    {
      "cell_type": "code",
      "source": [
        "{\n",
        "  \"id\": 101,\n",
        "  \"nombre_producto\": \"Audífonos Bluetooth\",\n",
        "  \"precio\": 159.99\n",
        "}\n"
      ],
      "metadata": {
        "id": "qHe5Y8y-uFni"
      },
      "execution_count": null,
      "outputs": []
    },
    {
      "cell_type": "code",
      "source": [
        "{\n",
        "  \"marca\": \"Toyota\",\n",
        "  \"modelo\": \"Corolla\",\n",
        "  \"año_fabricacion\": 2020\n",
        "}\n"
      ],
      "metadata": {
        "id": "d-RFBR42uHtY"
      },
      "execution_count": null,
      "outputs": []
    },
    {
      "cell_type": "code",
      "source": [
        "[\n",
        "  {\n",
        "    \"id\": 1,\n",
        "    \"nombre\": \"Carlos Pérez\",\n",
        "    \"calificacion_final\": 4.5\n",
        "  },\n",
        "  {\n",
        "    \"id\": 2,\n",
        "    \"nombre\": \"Laura Martínez\",\n",
        "    \"calificacion_final\": 3.9\n",
        "  },\n",
        "  {\n",
        "    \"id\": 3,\n",
        "    \"nombre\": \"José Ramírez\",\n",
        "    \"calificacion_final\": 4.8\n",
        "  }\n",
        "]\n"
      ],
      "metadata": {
        "id": "Ds1TrPuUuKEp"
      },
      "execution_count": null,
      "outputs": []
    },
    {
      "cell_type": "code",
      "source": [
        "{\n",
        "  \"nombre\": \"TechSoluciones S.A.S.\",\n",
        "  \"año_fundacion\": 2010,\n",
        "  \"direccion\": {\n",
        "    \"calle\": \"Carrera 45 #23-56\",\n",
        "    \"ciudad\": \"Medellín\"\n",
        "  }\n",
        "}\n"
      ],
      "metadata": {
        "id": "vi5-93VjuLip"
      },
      "execution_count": null,
      "outputs": []
    },
    {
      "cell_type": "code",
      "source": [
        "{\n",
        "  \"titulo\": \"Cien años de soledad\",\n",
        "  \"numero_paginas\": 417\n",
        "}\n"
      ],
      "metadata": {
        "id": "bchf82DuuMsR"
      },
      "execution_count": null,
      "outputs": []
    },
    {
      "cell_type": "code",
      "source": [
        "{\n",
        "  \"nombre\": \"Pedro\",\n",
        "  edad: 30\n",
        "}\n"
      ],
      "metadata": {
        "id": "023VKTnwuN5w"
      },
      "execution_count": null,
      "outputs": []
    },
    {
      "cell_type": "code",
      "source": [
        "{\n",
        "  \"nombre\": \"Pedro\",\n",
        "  \"edad\": 30\n",
        "}\n"
      ],
      "metadata": {
        "id": "BrbWudLluP8g"
      },
      "execution_count": null,
      "outputs": []
    },
    {
      "cell_type": "code",
      "source": [
        "[\n",
        "  {\n",
        "    \"id\": 1,\n",
        "    \"nombre\": \"Smartphone\",\n",
        "    \"precio\": 799.99\n",
        "  },\n",
        "  {\n",
        "    \"id\": 2,\n",
        "    \"nombre\": \"Laptop\",\n",
        "    \"precio\": 1199.00\n",
        "  },\n",
        "  {\n",
        "    \"id\": 3,\n",
        "    \"nombre\": \"Tablet\",\n",
        "    \"precio\": 499.50\n",
        "  }\n",
        "]\n"
      ],
      "metadata": {
        "id": "MYl8xnwZuRdB"
      },
      "execution_count": null,
      "outputs": []
    },
    {
      "cell_type": "code",
      "source": [
        "{\n",
        "  \"temperatura\": 30.5,\n",
        "  \"humedad\": 85,\n",
        "  \"ciudad\": \"Cartagena\"\n",
        "}\n"
      ],
      "metadata": {
        "id": "LK7_sOk-uSIh"
      },
      "execution_count": null,
      "outputs": []
    },
    {
      "cell_type": "code",
      "source": [
        "{\n",
        "  \"id\": 1001,\n",
        "  \"nombre_usuario\": \"jlopez\",\n",
        "  \"correo_electronico\": \"jlopez@example.com\"\n",
        "}\n"
      ],
      "metadata": {
        "id": "nQXXVpLguUiy"
      },
      "execution_count": null,
      "outputs": []
    }
  ]
}