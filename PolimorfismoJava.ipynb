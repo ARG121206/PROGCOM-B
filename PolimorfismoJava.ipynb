{
  "nbformat": 4,
  "nbformat_minor": 0,
  "metadata": {
    "colab": {
      "provenance": []
    },
    "kernelspec": {
      "name": "python3",
      "display_name": "Python 3"
    },
    "language_info": {
      "name": "python"
    }
  },
  "cells": [
    {
      "cell_type": "code",
      "execution_count": null,
      "metadata": {
        "id": "8BclqGVnscR-"
      },
      "outputs": [],
      "source": [
        "abstract class Animal {\n",
        "    abstract String hacerSonido();\n",
        "}\n",
        "\n",
        "class Perro extends Animal {\n",
        "    public String hacerSonido() {\n",
        "        return \"Guau\";\n",
        "    }\n",
        "}\n",
        "\n",
        "class Gato extends Animal {\n",
        "    public String hacerSonido() {\n",
        "        return \"Miau\";\n",
        "    }\n",
        "}\n"
      ]
    },
    {
      "cell_type": "code",
      "source": [
        "abstract class Forma {\n",
        "    abstract double calcularArea();\n",
        "}\n",
        "\n",
        "class Circulo extends Forma {\n",
        "    double radio;\n",
        "\n",
        "    Circulo(double radio) {\n",
        "        this.radio = radio;\n",
        "    }\n",
        "\n",
        "    public double calcularArea() {\n",
        "        return Math.PI * radio * radio;\n",
        "    }\n",
        "}\n",
        "\n",
        "class Rectangulo extends Forma {\n",
        "    double base, altura;\n",
        "\n",
        "    Rectangulo(double base, double altura) {\n",
        "        this.base = base;\n",
        "        this.altura = altura;\n",
        "    }\n",
        "\n",
        "    public double calcularArea() {\n",
        "        return base * altura;\n",
        "    }\n",
        "}\n"
      ],
      "metadata": {
        "id": "OgLuodP3sq4i"
      },
      "execution_count": null,
      "outputs": []
    },
    {
      "cell_type": "code",
      "source": [
        "class Forma:\n",
        "    def calcular_area(self):\n",
        "        raise NotImplementedError\n",
        "\n",
        "class Circulo(Forma):\n",
        "    def __init__(self, radio):\n",
        "        self.radio = radio\n",
        "\n",
        "    def calcular_area(self):\n",
        "        return 3.14 * self.radio ** 2\n",
        "\n",
        "class Rectangulo(Forma):\n",
        "    def __init__(self, largo, ancho):\n",
        "        self.largo = largo\n",
        "        self.ancho = ancho\n",
        "\n",
        "    def calcular_area(self):\n",
        "        return self.largo * self.ancho\n",
        "\n",
        "formas = [Circulo(5), Rectangulo(6, 2)]\n",
        "for f in formas:\n",
        "    print(f.calcular_area())\n"
      ],
      "metadata": {
        "id": "QdUcQxkgsvWL"
      },
      "execution_count": null,
      "outputs": []
    },
    {
      "cell_type": "code",
      "source": [
        "class Calculadora {\n",
        "    int operar(int a, int b) {\n",
        "        return a + b;\n",
        "    }\n",
        "\n",
        "    int operar(int a, int b, int c) {\n",
        "        return a * b * c;\n",
        "    }\n",
        "}\n"
      ],
      "metadata": {
        "id": "lA0OnRvfsw9y"
      },
      "execution_count": null,
      "outputs": []
    },
    {
      "cell_type": "code",
      "source": [
        "abstract class Figura {\n",
        "    abstract String dibujar();\n",
        "}\n",
        "\n",
        "class Circulo extends Figura {\n",
        "    public String dibujar() {\n",
        "        return \"Dibujando un círculo\";\n",
        "    }\n",
        "}\n",
        "\n",
        "class Rectangulo extends Figura {\n",
        "    public String dibujar() {\n",
        "        return \"Dibujando un rectángulo\";\n",
        "    }\n",
        "}\n"
      ],
      "metadata": {
        "id": "RiBqjEllsySZ"
      },
      "execution_count": null,
      "outputs": []
    },
    {
      "cell_type": "code",
      "source": [
        "abstract class Empleado {\n",
        "    abstract String trabajar();\n",
        "}\n",
        "\n",
        "class Gerente extends Empleado {\n",
        "    public String trabajar() {\n",
        "        return \"Gestionando equipo\";\n",
        "    }\n",
        "}\n",
        "\n",
        "class Desarrollador extends Empleado {\n",
        "    public String trabajar() {\n",
        "        return \"Escribiendo código\";\n",
        "    }\n",
        "}\n"
      ],
      "metadata": {
        "id": "wCBt8mGaszdZ"
      },
      "execution_count": null,
      "outputs": []
    },
    {
      "cell_type": "code",
      "source": [
        "abstract class Fruta {\n",
        "    abstract String describir();\n",
        "}\n",
        "\n",
        "class Manzana extends Fruta {\n",
        "    public String describir() {\n",
        "        return \"Manzana: dulce y roja\";\n",
        "    }\n",
        "}\n",
        "\n",
        "class Naranja extends Fruta {\n",
        "    public String describir() {\n",
        "        return \"Naranja: cítrica y jugosa\";\n",
        "    }\n",
        "}\n"
      ],
      "metadata": {
        "id": "fgE67srHs02B"
      },
      "execution_count": null,
      "outputs": []
    },
    {
      "cell_type": "code",
      "source": [
        "abstract class Pais {\n",
        "    abstract String capital();\n",
        "}\n",
        "\n",
        "class Argentina extends Pais {\n",
        "    public String capital() {\n",
        "        return \"Buenos Aires\";\n",
        "    }\n",
        "}\n",
        "\n",
        "class Francia extends Pais {\n",
        "    public String capital() {\n",
        "        return \"París\";\n",
        "    }\n",
        "}\n"
      ],
      "metadata": {
        "id": "zsU4C7rjs2BJ"
      },
      "execution_count": null,
      "outputs": []
    },
    {
      "cell_type": "code",
      "source": [
        "abstract class Pais {\n",
        "    abstract String idioma();\n",
        "}\n",
        "\n",
        "class Mexico extends Pais {\n",
        "    public String idioma() {\n",
        "        return \"Español\";\n",
        "    }\n",
        "}\n",
        "\n",
        "class Alemania extends Pais {\n",
        "    public String idioma() {\n",
        "        return \"Alemán\";\n",
        "    }\n",
        "}\n"
      ],
      "metadata": {
        "id": "1wBsS08Rs3Jh"
      },
      "execution_count": null,
      "outputs": []
    },
    {
      "cell_type": "code",
      "source": [
        "abstract class Instrumento {\n",
        "    abstract String tocar();\n",
        "}\n",
        "\n",
        "class Guitarra extends Instrumento {\n",
        "    public String tocar() {\n",
        "        return \"Sonido de guitarra 🎸\";\n",
        "    }\n",
        "}\n",
        "\n",
        "class Tambor extends Instrumento {\n",
        "    public String tocar() {\n",
        "        return \"Sonido de tambor 🥁\";\n",
        "    }\n",
        "}\n"
      ],
      "metadata": {
        "id": "rgENGUEQs4Nh"
      },
      "execution_count": null,
      "outputs": []
    }
  ]
}