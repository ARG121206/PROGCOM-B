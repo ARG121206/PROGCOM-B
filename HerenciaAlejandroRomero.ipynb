{
  "nbformat": 4,
  "nbformat_minor": 0,
  "metadata": {
    "colab": {
      "provenance": []
    },
    "kernelspec": {
      "name": "python3",
      "display_name": "Python 3"
    },
    "language_info": {
      "name": "python"
    }
  },
  "cells": [
    {
      "cell_type": "code",
      "execution_count": null,
      "metadata": {
        "id": "jcAiu5y044UG"
      },
      "outputs": [],
      "source": [
        "\n",
        "class Animal:\n",
        "    def hablar(self):\n",
        "        print(\"Este es un animal\")\n",
        "\n",
        "\n",
        "class Perro(Animal):\n",
        "    pass\n",
        "\n",
        "\n",
        "mi_perro = Perro()\n",
        "\n",
        "\n",
        "mi_perro.hablar()\n"
      ]
    },
    {
      "cell_type": "code",
      "source": [
        "\n",
        "class Persona:\n",
        "    def __init__(self, nombre):\n",
        "        self.nombre = nombre\n",
        "\n",
        "\n",
        "class Estudiante(Persona):\n",
        "    pass\n",
        "\n",
        "estudiante = Estudiante(\"Juan Pérez\")\n",
        "\n",
        "\n",
        "print(estudiante.nombre)\n"
      ],
      "metadata": {
        "id": "DxtUhNTh7GWT"
      },
      "execution_count": null,
      "outputs": []
    },
    {
      "cell_type": "code",
      "source": [
        "\n",
        "class Vehiculo:\n",
        "    def arrancar(self):\n",
        "        print(\"Vehículo encendido\")\n",
        "\n",
        "\n",
        "class Moto(Vehiculo):\n",
        "    def arrancar(self):\n",
        "        print(\"Moto encendida\")\n",
        "\n",
        "\n",
        "mi_moto = Moto()\n",
        "\n",
        "\n",
        "mi_moto.arrancar()\n"
      ],
      "metadata": {
        "id": "7oDHZ-tF7Ja7"
      },
      "execution_count": null,
      "outputs": []
    },
    {
      "cell_type": "code",
      "source": [
        "\n",
        "class Empleado:\n",
        "    def trabajar(self):\n",
        "        print(\"El empleado está trabajando.\")\n",
        "\n",
        "\n",
        "class Gerente(Empleado):\n",
        "    def trabajar(self):\n",
        "        print(\"El gerente está planificando y supervisando al equipo.\")\n",
        "\n",
        "\n",
        "class Obrero(Empleado):\n",
        "    def trabajar(self):\n",
        "        print(\"El obrero está ejecutando tareas manuales en la línea de producción.\")\n",
        "\n",
        "\n",
        "gerente = Gerente()\n",
        "obrero = Obrero()\n",
        "\n",
        "gerente.trabajar()\n",
        "obrero.trabajar()\n"
      ],
      "metadata": {
        "id": "UZftq3jq7Rub"
      },
      "execution_count": null,
      "outputs": []
    },
    {
      "cell_type": "code",
      "source": [
        "\n",
        "class Producto:\n",
        "    def __init__(self, nombre, precio):\n",
        "        self.nombre = nombre\n",
        "        self.precio = precio\n",
        "\n",
        "\n",
        "class Libro(Producto):\n",
        "    def __init__(self, nombre, precio):\n",
        "        super().__init__(nombre, precio)\n",
        "\n",
        "    def mostrar_info(self):\n",
        "        print(f\"Libro: {self.nombre}, Precio: ${self.precio}\")\n",
        "\n",
        "\n",
        "libro = Libro(\"Cien años de soledad\", 39.99)\n",
        "libro.mostrar_info()\n"
      ],
      "metadata": {
        "id": "xLL3EnZN7R-q"
      },
      "execution_count": null,
      "outputs": []
    },
    {
      "cell_type": "code",
      "source": [
        "Libro: Cien años de soledad, Precio: $39.99"
      ],
      "metadata": {
        "id": "ux6pwmBA7SSE"
      },
      "execution_count": null,
      "outputs": []
    },
    {
      "cell_type": "code",
      "source": [
        "\n",
        "class Persona:\n",
        "    def saludar(self):\n",
        "        print(\"Hola\")\n",
        "\n",
        "\n",
        "class Profesor(Persona):\n",
        "    def enseñar(self):\n",
        "        print(\"Estoy enseñando\")\n",
        "\n",
        "\n",
        "profesor = Profesor()\n",
        "profesor.saludar()\n",
        "profesor.enseñar()\n"
      ],
      "metadata": {
        "id": "scVbIyY-7iI9"
      },
      "execution_count": null,
      "outputs": []
    },
    {
      "cell_type": "code",
      "source": [
        "\n",
        "class Persona:\n",
        "    def saludar(self):\n",
        "        print(\"Hola\")\n",
        "\n",
        "\n",
        "class Profesor(Persona):\n",
        "    def enseñar(self):\n",
        "        print(\"Estoy enseñando\")\n",
        "\n",
        "\n",
        "profesor = Profesor()\n",
        "profesor.saludar()\n",
        "profesor.enseñar()\n"
      ],
      "metadata": {
        "id": "AC5PVbVn7rka"
      },
      "execution_count": null,
      "outputs": []
    },
    {
      "cell_type": "code",
      "source": [
        "\n",
        "class Computadora:\n",
        "    def encender(self):\n",
        "        print(\"La computadora se está encendiendo.\")\n",
        "\n",
        "\n",
        "class Portatil(Computadora):\n",
        "    pass\n",
        "\n",
        "\n",
        "mi_portatil = Portatil()\n",
        "mi_portatil.encender()"
      ],
      "metadata": {
        "id": "EL6M0iMv7t4x"
      },
      "execution_count": null,
      "outputs": []
    },
    {
      "cell_type": "code",
      "source": [
        "\n",
        "class Cuenta:\n",
        "    def __init__(self, saldo):\n",
        "        self.saldo = saldo\n",
        "\n",
        "\n",
        "class CuentaAhorro(Cuenta):\n",
        "    pass\n",
        "\n",
        "\n",
        "mi_cuenta = CuentaAhorro(1000)\n",
        "print(f\"Saldo de la cuenta de ahorro: ${mi_cuenta.saldo}\")\n"
      ],
      "metadata": {
        "id": "Va0Q66ef72JK"
      },
      "execution_count": null,
      "outputs": []
    },
    {
      "cell_type": "code",
      "source": [
        "Saldo de la cuenta de ahorro: $1000"
      ],
      "metadata": {
        "id": "ZigrDm4b72Ti"
      },
      "execution_count": null,
      "outputs": []
    },
    {
      "cell_type": "code",
      "source": [
        "\n",
        "class SerVivo:\n",
        "    def respirar(self):\n",
        "        print(\"Respirando...\")\n",
        "\n",
        "\n",
        "class Humano(SerVivo):\n",
        "    pass\n",
        "\n",
        "\n",
        "persona = Humano()\n",
        "persona.respirar()\n"
      ],
      "metadata": {
        "id": "IOtOHr3x8LVq"
      },
      "execution_count": null,
      "outputs": []
    }
  ]
}